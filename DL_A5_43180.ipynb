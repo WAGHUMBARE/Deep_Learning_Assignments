{
 "cells": [
  {
   "cell_type": "markdown",
   "metadata": {
    "id": "i_GcJlVrDgBk"
   },
   "source": [
    "Name: **Yash Waghumbare**<br>\n",
    "Div: **BE9-S9**<br>\n",
    "Roll no: **43180**<br>\n",
    "Title: **Assignment 5: Implement the Continuous Bag of Words (CBOW) Model**<br>"
   ]
  },
  {
   "cell_type": "code",
   "execution_count": 1,
   "metadata": {
    "id": "V51q50EbF-T9"
   },
   "outputs": [],
   "source": [
    "#importing libraries\n",
    "from keras.preprocessing import text\n",
    "from keras.utils import np_utils\n",
    "from keras.preprocessing import sequence\n",
    "from keras.utils import pad_sequences\n",
    "import numpy as np\n",
    "import pandas as pd"
   ]
  },
  {
   "cell_type": "code",
   "execution_count": 2,
   "metadata": {
    "id": "wBUwYdBJElVz"
   },
   "outputs": [],
   "source": [
    "#taking random sentences as data\n",
    "data = \"\"\"Deep learning (also known as deep structured learning) is part of a broader family of machine learning methods based on artificial neural networks with representation learning. Learning can be supervised, semi-supervised or unsupervised. \n",
    "Deep-learning architectures such as deep neural networks, deep belief networks, deep reinforcement learning, recurrent neural networks, convolutional neural networks and Transformers have been applied to fields including computer vision, speech recognition, natural language processing, machine translation, bioinformatics, drug design, medical image analysis, climate science, material inspection and board game programs, where they have produced results comparable to and in some cases surpassing human expert performance.\n",
    "\"\"\"\n",
    "dl_data = data.split()"
   ]
  },
  {
   "cell_type": "code",
   "execution_count": 3,
   "metadata": {
    "colab": {
     "base_uri": "https://localhost:8080/"
    },
    "id": "celNk9LmEvm8",
    "outputId": "4e2143b6-92dc-452f-f468-7c9e6238e287"
   },
   "outputs": [
    {
     "name": "stdout",
     "output_type": "stream",
     "text": [
      "Vocabulary Size: 75\n",
      "Vocabulary Sample: [('learning', 1), ('deep', 2), ('networks', 3), ('neural', 4), ('and', 5), ('as', 6), ('of', 7), ('machine', 8), ('supervised', 9), ('have', 10)]\n"
     ]
    }
   ],
   "source": [
    "#tokenization\n",
    "tokenizer = text.Tokenizer()\n",
    "tokenizer.fit_on_texts(dl_data)\n",
    "word2id = tokenizer.word_index\n",
    "\n",
    "word2id['PAD'] = 0\n",
    "id2word = {v:k for k, v in word2id.items()}\n",
    "wids = [[word2id[w] for w in text.text_to_word_sequence(doc)] for doc in dl_data]\n",
    "\n",
    "vocab_size = len(word2id)\n",
    "embed_size = 100\n",
    "window_size = 2 \n",
    "\n",
    "print('Vocabulary Size:', vocab_size)\n",
    "print('Vocabulary Sample:', list(word2id.items())[:10])"
   ]
  },
  {
   "cell_type": "code",
   "execution_count": 4,
   "metadata": {
    "id": "AAxNYDanInQC"
   },
   "outputs": [],
   "source": [
    "#generating (context word, target/label word) pairs\n",
    "def generate_context_word_pairs(corpus, window_size, vocab_size):\n",
    "    context_length = window_size*2\n",
    "    for words in corpus:\n",
    "        sentence_length = len(words)\n",
    "        for index, word in enumerate(words):\n",
    "            context_words = []\n",
    "            label_word   = []            \n",
    "            start = index - window_size\n",
    "            end = index + window_size + 1\n",
    "            \n",
    "            context_words.append([words[i] \n",
    "                                 for i in range(start, end) \n",
    "                                 if 0 <= i < sentence_length \n",
    "                                 and i != index])\n",
    "            label_word.append(word)\n",
    "\n",
    "            x = pad_sequences(context_words, maxlen=context_length)\n",
    "            y = np_utils.to_categorical(label_word, vocab_size)\n",
    "            yield (x, y)\n",
    "            \n",
    "i = 0\n",
    "for x, y in generate_context_word_pairs(corpus=wids, window_size=window_size, vocab_size=vocab_size):\n",
    "    if 0 not in x[0]:\n",
    "        # print('Context (X):', [id2word[w] for w in x[0]], '-> Target (Y):', id2word[np.argwhere(y[0])[0][0]])\n",
    "    \n",
    "        if i == 10:\n",
    "            break\n",
    "        i += 1"
   ]
  },
  {
   "cell_type": "code",
   "execution_count": 5,
   "metadata": {
    "colab": {
     "base_uri": "https://localhost:8080/"
    },
    "id": "Rb5dNmoZKZBv",
    "outputId": "b859c07e-6989-420d-b169-8aa0b93ff367"
   },
   "outputs": [
    {
     "name": "stdout",
     "output_type": "stream",
     "text": [
      "Model: \"sequential\"\n",
      "_________________________________________________________________\n",
      " Layer (type)                Output Shape              Param #   \n",
      "=================================================================\n",
      " embedding (Embedding)       (None, 4, 100)            7500      \n",
      "                                                                 \n",
      " lambda (Lambda)             (None, 100)               0         \n",
      "                                                                 \n",
      " dense (Dense)               (None, 75)                7575      \n",
      "                                                                 \n",
      "=================================================================\n",
      "Total params: 15,075\n",
      "Trainable params: 15,075\n",
      "Non-trainable params: 0\n",
      "_________________________________________________________________\n",
      "None\n"
     ]
    }
   ],
   "source": [
    "#model building\n",
    "import keras.backend as K\n",
    "from keras.models import Sequential\n",
    "from keras.layers import Dense, Embedding, Lambda\n",
    "\n",
    "cbow = Sequential()\n",
    "cbow.add(Embedding(input_dim=vocab_size, output_dim=embed_size, input_length=window_size*2))\n",
    "cbow.add(Lambda(lambda x: K.mean(x, axis=1), output_shape=(embed_size,)))\n",
    "cbow.add(Dense(vocab_size, activation='softmax'))\n",
    "cbow.compile(loss='categorical_crossentropy', optimizer='rmsprop')\n",
    "\n",
    "print(cbow.summary())\n",
    "\n",
    "# from IPython.display import SVG\n",
    "# from keras.utils.vis_utils import model_to_dot\n",
    "\n",
    "# SVG(model_to_dot(cbow, show_shapes=True, show_layer_names=False, rankdir='TB').create(prog='dot', format='svg'))"
   ]
  },
  {
   "cell_type": "code",
   "execution_count": 6,
   "metadata": {
    "colab": {
     "base_uri": "https://localhost:8080/"
    },
    "id": "xs12C3MDK1q4",
    "outputId": "fe8783b3-0ee1-4286-be40-6713afa14f9c"
   },
   "outputs": [
    {
     "name": "stdout",
     "output_type": "stream",
     "text": [
      "Epoch: 1 \tLoss: 434.40525007247925\n",
      "\n",
      "Epoch: 2 \tLoss: 429.64614844322205\n",
      "\n",
      "Epoch: 3 \tLoss: 426.254625082016\n",
      "\n",
      "Epoch: 4 \tLoss: 422.88486409187317\n",
      "\n",
      "Epoch: 5 \tLoss: 420.2294900417328\n",
      "\n"
     ]
    }
   ],
   "source": [
    "for epoch in range(1, 6):\n",
    "    loss = 0.\n",
    "    i = 0\n",
    "    for x, y in generate_context_word_pairs(corpus=wids, window_size=window_size, vocab_size=vocab_size):\n",
    "        i += 1\n",
    "        loss += cbow.train_on_batch(x, y)\n",
    "        if i % 100000 == 0:\n",
    "            print('Processed {} (context, word) pairs'.format(i))\n",
    "\n",
    "    print('Epoch:', epoch, '\\tLoss:', loss)\n",
    "    print()"
   ]
  },
  {
   "cell_type": "code",
   "execution_count": 7,
   "metadata": {
    "colab": {
     "base_uri": "https://localhost:8080/",
     "height": 253
    },
    "id": "TZ3_QGKVK6Tj",
    "outputId": "cd9d167a-85a3-4cc9-eccb-faf997526122"
   },
   "outputs": [
    {
     "name": "stdout",
     "output_type": "stream",
     "text": [
      "(74, 100)\n"
     ]
    },
    {
     "data": {
      "text/html": [
       "<div>\n",
       "<style scoped>\n",
       "    .dataframe tbody tr th:only-of-type {\n",
       "        vertical-align: middle;\n",
       "    }\n",
       "\n",
       "    .dataframe tbody tr th {\n",
       "        vertical-align: top;\n",
       "    }\n",
       "\n",
       "    .dataframe thead th {\n",
       "        text-align: right;\n",
       "    }\n",
       "</style>\n",
       "<table border=\"1\" class=\"dataframe\">\n",
       "  <thead>\n",
       "    <tr style=\"text-align: right;\">\n",
       "      <th></th>\n",
       "      <th>0</th>\n",
       "      <th>1</th>\n",
       "      <th>2</th>\n",
       "      <th>3</th>\n",
       "      <th>4</th>\n",
       "      <th>5</th>\n",
       "      <th>6</th>\n",
       "      <th>7</th>\n",
       "      <th>8</th>\n",
       "      <th>9</th>\n",
       "      <th>...</th>\n",
       "      <th>90</th>\n",
       "      <th>91</th>\n",
       "      <th>92</th>\n",
       "      <th>93</th>\n",
       "      <th>94</th>\n",
       "      <th>95</th>\n",
       "      <th>96</th>\n",
       "      <th>97</th>\n",
       "      <th>98</th>\n",
       "      <th>99</th>\n",
       "    </tr>\n",
       "  </thead>\n",
       "  <tbody>\n",
       "    <tr>\n",
       "      <th>deep</th>\n",
       "      <td>-0.028218</td>\n",
       "      <td>-0.005919</td>\n",
       "      <td>0.005274</td>\n",
       "      <td>-0.029521</td>\n",
       "      <td>-0.022013</td>\n",
       "      <td>-0.019620</td>\n",
       "      <td>0.027524</td>\n",
       "      <td>0.011648</td>\n",
       "      <td>0.025632</td>\n",
       "      <td>-0.008394</td>\n",
       "      <td>...</td>\n",
       "      <td>0.014053</td>\n",
       "      <td>0.002022</td>\n",
       "      <td>-0.046732</td>\n",
       "      <td>0.045974</td>\n",
       "      <td>-0.040925</td>\n",
       "      <td>-0.039103</td>\n",
       "      <td>-0.012957</td>\n",
       "      <td>0.030708</td>\n",
       "      <td>0.051954</td>\n",
       "      <td>-0.010717</td>\n",
       "    </tr>\n",
       "    <tr>\n",
       "      <th>networks</th>\n",
       "      <td>0.004388</td>\n",
       "      <td>-0.018607</td>\n",
       "      <td>0.009451</td>\n",
       "      <td>0.030428</td>\n",
       "      <td>-0.031672</td>\n",
       "      <td>0.031915</td>\n",
       "      <td>0.055260</td>\n",
       "      <td>0.020617</td>\n",
       "      <td>-0.008885</td>\n",
       "      <td>-0.030407</td>\n",
       "      <td>...</td>\n",
       "      <td>-0.002793</td>\n",
       "      <td>0.042926</td>\n",
       "      <td>0.050381</td>\n",
       "      <td>0.053126</td>\n",
       "      <td>0.003252</td>\n",
       "      <td>0.033827</td>\n",
       "      <td>-0.025546</td>\n",
       "      <td>-0.042414</td>\n",
       "      <td>-0.013821</td>\n",
       "      <td>-0.035707</td>\n",
       "    </tr>\n",
       "    <tr>\n",
       "      <th>neural</th>\n",
       "      <td>0.029352</td>\n",
       "      <td>-0.036660</td>\n",
       "      <td>0.021049</td>\n",
       "      <td>0.003298</td>\n",
       "      <td>-0.023420</td>\n",
       "      <td>0.046911</td>\n",
       "      <td>-0.039212</td>\n",
       "      <td>0.010056</td>\n",
       "      <td>0.043364</td>\n",
       "      <td>-0.042134</td>\n",
       "      <td>...</td>\n",
       "      <td>-0.033033</td>\n",
       "      <td>0.013651</td>\n",
       "      <td>-0.043134</td>\n",
       "      <td>-0.045682</td>\n",
       "      <td>0.017554</td>\n",
       "      <td>-0.042856</td>\n",
       "      <td>0.024010</td>\n",
       "      <td>-0.025948</td>\n",
       "      <td>0.032775</td>\n",
       "      <td>0.012766</td>\n",
       "    </tr>\n",
       "    <tr>\n",
       "      <th>and</th>\n",
       "      <td>0.022546</td>\n",
       "      <td>0.006237</td>\n",
       "      <td>0.001115</td>\n",
       "      <td>-0.019212</td>\n",
       "      <td>0.003657</td>\n",
       "      <td>-0.048563</td>\n",
       "      <td>0.045061</td>\n",
       "      <td>-0.048979</td>\n",
       "      <td>-0.025171</td>\n",
       "      <td>0.004712</td>\n",
       "      <td>...</td>\n",
       "      <td>0.002042</td>\n",
       "      <td>-0.031780</td>\n",
       "      <td>0.047122</td>\n",
       "      <td>0.016723</td>\n",
       "      <td>-0.014286</td>\n",
       "      <td>-0.018209</td>\n",
       "      <td>-0.049642</td>\n",
       "      <td>-0.045368</td>\n",
       "      <td>0.009382</td>\n",
       "      <td>0.044056</td>\n",
       "    </tr>\n",
       "    <tr>\n",
       "      <th>as</th>\n",
       "      <td>-0.013465</td>\n",
       "      <td>-0.035403</td>\n",
       "      <td>0.010038</td>\n",
       "      <td>0.037268</td>\n",
       "      <td>-0.045731</td>\n",
       "      <td>0.005324</td>\n",
       "      <td>-0.017414</td>\n",
       "      <td>-0.005259</td>\n",
       "      <td>0.041465</td>\n",
       "      <td>-0.014640</td>\n",
       "      <td>...</td>\n",
       "      <td>-0.038623</td>\n",
       "      <td>0.010498</td>\n",
       "      <td>-0.013775</td>\n",
       "      <td>0.005803</td>\n",
       "      <td>0.013803</td>\n",
       "      <td>-0.037896</td>\n",
       "      <td>0.026234</td>\n",
       "      <td>-0.022100</td>\n",
       "      <td>-0.045674</td>\n",
       "      <td>0.031742</td>\n",
       "    </tr>\n",
       "  </tbody>\n",
       "</table>\n",
       "<p>5 rows × 100 columns</p>\n",
       "</div>"
      ],
      "text/plain": [
       "                0         1         2         3         4         5   \\\n",
       "deep     -0.028218 -0.005919  0.005274 -0.029521 -0.022013 -0.019620   \n",
       "networks  0.004388 -0.018607  0.009451  0.030428 -0.031672  0.031915   \n",
       "neural    0.029352 -0.036660  0.021049  0.003298 -0.023420  0.046911   \n",
       "and       0.022546  0.006237  0.001115 -0.019212  0.003657 -0.048563   \n",
       "as       -0.013465 -0.035403  0.010038  0.037268 -0.045731  0.005324   \n",
       "\n",
       "                6         7         8         9   ...        90        91  \\\n",
       "deep      0.027524  0.011648  0.025632 -0.008394  ...  0.014053  0.002022   \n",
       "networks  0.055260  0.020617 -0.008885 -0.030407  ... -0.002793  0.042926   \n",
       "neural   -0.039212  0.010056  0.043364 -0.042134  ... -0.033033  0.013651   \n",
       "and       0.045061 -0.048979 -0.025171  0.004712  ...  0.002042 -0.031780   \n",
       "as       -0.017414 -0.005259  0.041465 -0.014640  ... -0.038623  0.010498   \n",
       "\n",
       "                92        93        94        95        96        97  \\\n",
       "deep     -0.046732  0.045974 -0.040925 -0.039103 -0.012957  0.030708   \n",
       "networks  0.050381  0.053126  0.003252  0.033827 -0.025546 -0.042414   \n",
       "neural   -0.043134 -0.045682  0.017554 -0.042856  0.024010 -0.025948   \n",
       "and       0.047122  0.016723 -0.014286 -0.018209 -0.049642 -0.045368   \n",
       "as       -0.013775  0.005803  0.013803 -0.037896  0.026234 -0.022100   \n",
       "\n",
       "                98        99  \n",
       "deep      0.051954 -0.010717  \n",
       "networks -0.013821 -0.035707  \n",
       "neural    0.032775  0.012766  \n",
       "and       0.009382  0.044056  \n",
       "as       -0.045674  0.031742  \n",
       "\n",
       "[5 rows x 100 columns]"
      ]
     },
     "execution_count": 7,
     "metadata": {},
     "output_type": "execute_result"
    }
   ],
   "source": [
    "weights = cbow.get_weights()[0]\n",
    "weights = weights[1:]\n",
    "print(weights.shape)\n",
    "\n",
    "pd.DataFrame(weights, index=list(id2word.values())[1:]).head()"
   ]
  },
  {
   "cell_type": "code",
   "execution_count": 8,
   "metadata": {
    "colab": {
     "base_uri": "https://localhost:8080/"
    },
    "id": "UFs2IAn_LAYS",
    "outputId": "87ae1249-6a80-484f-b4a2-4d5f20734db7"
   },
   "outputs": [
    {
     "name": "stdout",
     "output_type": "stream",
     "text": [
      "(74, 74)\n"
     ]
    },
    {
     "data": {
      "text/plain": [
       "{'deep': ['transformers', 'climate', 'convolutional', 'of', 'family']}"
      ]
     },
     "execution_count": 8,
     "metadata": {},
     "output_type": "execute_result"
    }
   ],
   "source": [
    "from sklearn.metrics.pairwise import euclidean_distances\n",
    "\n",
    "distance_matrix = euclidean_distances(weights)\n",
    "print(distance_matrix.shape)\n",
    "\n",
    "similar_words = {search_term: [id2word[idx] for idx in distance_matrix[word2id[search_term]-1].argsort()[1:6]+1] \n",
    "                   for search_term in ['deep']}\n",
    "\n",
    "similar_words"
   ]
  },
  {
   "cell_type": "code",
   "execution_count": null,
   "metadata": {},
   "outputs": [],
   "source": []
  }
 ],
 "metadata": {
  "colab": {
   "collapsed_sections": [],
   "provenance": []
  },
  "kernelspec": {
   "display_name": "Python 3 (ipykernel)",
   "language": "python",
   "name": "python3"
  },
  "language_info": {
   "codemirror_mode": {
    "name": "ipython",
    "version": 3
   },
   "file_extension": ".py",
   "mimetype": "text/x-python",
   "name": "python",
   "nbconvert_exporter": "python",
   "pygments_lexer": "ipython3",
   "version": "3.9.13"
  }
 },
 "nbformat": 4,
 "nbformat_minor": 1
}
